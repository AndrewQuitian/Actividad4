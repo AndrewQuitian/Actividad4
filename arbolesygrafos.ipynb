{
  "nbformat": 4,
  "nbformat_minor": 0,
  "metadata": {
    "colab": {
      "name": "arbolesygrafos.ipynb",
      "provenance": [],
      "authorship_tag": "ABX9TyMVP8p7/z6PU/B0iejkdZvw",
      "include_colab_link": true
    },
    "kernelspec": {
      "name": "python3",
      "display_name": "Python 3"
    },
    "language_info": {
      "name": "python"
    }
  },
  "cells": [
    {
      "cell_type": "markdown",
      "metadata": {
        "id": "view-in-github",
        "colab_type": "text"
      },
      "source": [
        "<a href=\"https://colab.research.google.com/github/AndrewQuitian/Actividad4/blob/main/arbolesygrafos.ipynb\" target=\"_parent\"><img src=\"https://colab.research.google.com/assets/colab-badge.svg\" alt=\"Open In Colab\"/></a>"
      ]
    },
    {
      "cell_type": "code",
      "execution_count": null,
      "metadata": {
        "colab": {
          "base_uri": "https://localhost:8080/",
          "height": 666
        },
        "id": "chE3f_ptzOqL",
        "outputId": "495bac33-137d-47fa-d7b1-5369e0f73d9f"
      },
      "outputs": [
        {
          "output_type": "stream",
          "name": "stdout",
          "text": [
            "La distancia entre  ('A', 'E') {'distancia': 800.0} [METROS]\n",
            "La distancia entre  ('A', 'I') {'distancia': 316.22776601683796} [METROS]\n",
            "La distancia entre  ('A', 'O') {'distancia': 632.4555320336759} [METROS]\n",
            "La distancia entre  ('A', 'U') {'distancia': 1264.9110640673518} [METROS]\n",
            "La distancia entre  ('E', 'A') {'distancia': 800.0} [METROS]\n",
            "La distancia entre  ('E', 'I') {'distancia': 509.9019513592784} [METROS]\n",
            "La distancia entre  ('E', 'O') {'distancia': 282.842712474619} [METROS]\n",
            "La distancia entre  ('E', 'U') {'distancia': 565.685424949238} [METROS]\n",
            "La distancia entre  ('I', 'A') {'distancia': 316.22776601683796} [METROS]\n",
            "La distancia entre  ('I', 'E') {'distancia': 509.9019513592784} [METROS]\n",
            "La distancia entre  ('I', 'O') {'distancia': 316.22776601683796} [METROS]\n",
            "La distancia entre  ('I', 'U') {'distancia': 948.6832980505138} [METROS]\n",
            "La distancia entre  ('O', 'A') {'distancia': 632.4555320336759} [METROS]\n",
            "La distancia entre  ('O', 'E') {'distancia': 282.842712474619} [METROS]\n",
            "La distancia entre  ('O', 'I') {'distancia': 316.22776601683796} [METROS]\n",
            "La distancia entre  ('O', 'U') {'distancia': 632.4555320336759} [METROS]\n",
            "La distancia entre  ('U', 'A') {'distancia': 1264.9110640673518} [METROS]\n",
            "La distancia entre  ('U', 'E') {'distancia': 565.685424949238} [METROS]\n",
            "La distancia entre  ('U', 'I') {'distancia': 948.6832980505138} [METROS]\n",
            "La distancia entre  ('U', 'O') {'distancia': 632.4555320336759} [METROS]\n"
          ]
        },
        {
          "output_type": "display_data",
          "data": {
            "text/plain": [
              "<Figure size 432x288 with 1 Axes>"
            ],
            "image/png": "[encoded data removed]"
          },
          "metadata": {}
        }
      ],
      "source": [
        "#Un grafo es un conjunto de puntos y un conjunto de líneas, cada una de las cuales une un punto con otro. Los puntos se llaman nodos o vértices de un grafo \n",
        "#y las líneas se llaman aristas o arcos. Se representan el conjunto de vértices de un grafo dado G, por Vg, y el conjunto de arcos, por Ag.\n",
        "\n",
        "\n",
        "#Ejemplo de grafo en python.\n",
        "\n",
        "from math import sqrt\n",
        "import matplotlib.pyplot as plt\n",
        "import networkx as nx\n",
        "\n",
        "\n",
        "class Dupla: # Se define esta clase dupla para hacer mas sencillo el acceso a los valores X Y de cada nodo o vertice\n",
        "    def _init_(self, x, y):\n",
        "        self.x = x\n",
        "        self.y = y\n",
        "\n",
        "def CalcDis(Dup1, Dup2):# Usando una ecuacion simple calculamos la distancia de cada arista en base a sus vertices\n",
        "    return sqrt(pow((Dup1.x - Dup2.x), 2) + pow((Dup1.y - Dup2.y), 2))  # calcula la distancia entre dos puntos\n",
        "\n",
        "G = nx.Graph() # Se crea un grafo nulo\n",
        "vertices_G = ['A', 'E', 'I', 'O', 'U']\n",
        "\n",
        "# se crean todos los vertices\n",
        "\n",
        "G.add_nodes_from(vertices_G)# se le asignan dichos vertices o nodos al grafo\n",
        "aristas_G = [('A', 'E'), ('A', 'I'), ('A', 'O'), ('A', 'U'), ('E', 'A'), ('E', 'I'), ('E', 'O'), ('E', 'U'),\n",
        "             ('I', 'A'), ('I', 'E'), ('I', 'O'), ('I', 'U'), ('O', 'A'), ('O', 'E'), ('O', 'I'), ('O', 'U'),\n",
        "\n",
        "             ('U', 'A'), ('U', 'E'), ('U', 'I'), ('U', 'O')]\n",
        "# se crean todas las aristas\n",
        "G.add_edges_from(aristas_G)# se le asignan dichas aristas al grafo\n",
        "ubica = {'A': (2, 1), 'E': (10, 1), 'I': (5, 2), 'O': (8, 3), 'U': (14, 5)}\n",
        "\n",
        "#se crea un diccionario con los cada vertice y su ubicacion en el plano X Y\n",
        "\n",
        "puntoA = Dupla()# Se asignan los valores X Y de cada vertice extrayendolos del diccionario\n",
        "puntoA.x = ubica['A'][0]\n",
        "puntoA.y = ubica['A'][1]\n",
        "puntoE = Dupla()# Se asignan los valores X Y de cada vertice extrayendolos del diccionario\n",
        "puntoE.x = ubica['E'][0]\n",
        "puntoE.y = ubica['E'][1]\n",
        "puntoI = Dupla()# Se asignan los valores X Y de cada vertice extrayendolos del diccionario\n",
        "puntoI.x = ubica['I'][0]\n",
        "puntoI.y = ubica['I'][1]\n",
        "puntoO = Dupla()# Se asignan los valores X Y de cada vertice extrayendolos del diccionario\n",
        "puntoO.x = ubica['O'][0]\n",
        "puntoO.y = ubica['O'][1]\n",
        "puntoU = Dupla()# Se asignan los valores X Y de cada vertice extrayendolos del diccionario\n",
        "puntoU.x = ubica['U'][0]\n",
        "puntoU.y = ubica['U'][1]\n",
        "Puntos = {'A': puntoA, 'E': puntoE, 'I': puntoI, 'O': puntoO, 'U': puntoU}\n",
        "\n",
        "#Se crea un diccionario de los puntos antes creados para tener un acceso mas simple\n",
        "# se crea un contador como iterador de el ciclo for\n",
        "\n",
        "cont: int = 0\n",
        "for i in aristas_G:\n",
        "    Pa = Puntos[aristas_G[cont][0]]\n",
        "    Pe = Puntos[aristas_G[cont][1]]\n",
        "    G.edges[i]['distancia'] = CalcDis(Pa, Pe)*100\n",
        "    # se calcula la distancia entre vertices y se multiplica por 100 ya que\n",
        "    # cada unidad de nuestro plano vale 100 metros, luego se asigna como peso a cada arista\n",
        "    print('La distancia entre ', aristas_G[cont], G.edges[i],'[METROS]')\n",
        "    cont = cont + 1\n",
        "nx.draw(G, pos=ubica, node_color='gray', with_labels=True)\n",
        "# se dibuja el grafo\n",
        "plt.show()\n",
        "\n",
        "\n",
        "#Referencias\n",
        "# Grafos en python https://www.youtube.com/watch?v=UAaT1apYOdg&t=251s\n"
      ]
    },
    {
      "cell_type": "code",
      "source": [
        "#Un árbol es una de las estructuras de datos. Una estructura de datos no es más que cómo organizamos los datos en la memoria. \n",
        "# Un árbol es una combinación de nodos (también conocidos como vértices) y aristas. Un árbol puede tener cualquier número de nodos y bordes\n",
        "\n",
        "\n",
        "# Inicialmente tendremos que declarar un arbol para esto vamos a crear una clase con \n",
        "# funcion init la cual instanciara 3 tipos de clase, el nodo hijo izquierdo, el nodo \n",
        "# hijo derecho y los datos del nodo actual\n",
        "\n",
        "class nodo:\n",
        "  def __init__(self, nombre=None, izq=None, der=None):\n",
        "      self.nombre = nombre\n",
        "      self.cedula = cedula\n",
        "      self.izq = izq\n",
        "      self.der = der\n",
        "    \n",
        "  def __str__(self):\n",
        "        return \"%s %s\" %(self.nombre, self.cedula)\n",
        "    \n",
        "#La salida representa el área en la memoria que se asigna para el objeto de árbol que acaba de crearse una instancia.\n",
        "\n",
        "\n",
        "class aBinarios:\n",
        "    def __init__(self):\n",
        "        self.raiz = None\n",
        "        \n",
        "    def agregrar(self, elemento):\n",
        "        if self.raiz == None:\n",
        "            self.raiz = elemento\n",
        "        else:\n",
        "            aux = self.raiz\n",
        "            padre = None\n",
        "            while aux  != None:\n",
        "                padre = aux\n",
        "                if int(elemento.cedula) >= int(aux.cedula):\n",
        "                    aux = aux.der\n",
        "                else:\n",
        "                    aux = aux.izq\n",
        "            if int(elemento.cedula) >= int(padre.cedula):\n",
        "                padre.der = elemento\n",
        "            else:\n",
        "                padre.izq = elemento\n",
        "\n",
        "    def preorden(self, elemento):\n",
        "        if elemento != None:\n",
        "            self.preorden(elemento.izq)\n",
        "            self.preorden(elemento.der)\n",
        "            print(elemento)\n",
        "\n",
        "    def postorden(self, elemento):\n",
        "        if elemento != None:\n",
        "            self.postorden(elemento.izq)\n",
        "            self.postorden(elemento.der)\n",
        "            print(elemento)\n",
        "            \n",
        "    def inorden(self, elemento):\n",
        "        if elemento != None:\n",
        "            self.inorden(elemento.izq)\n",
        "            self.inorden(elemento.der)\n",
        "            print(elemento)\n",
        "\n",
        "    def getRaiz(self):\n",
        "        return self.raiz\n",
        "\n",
        "# Crearemos el menu en el cual podemos elegir la opcion que queramos\n",
        "\n",
        "if __name__ == \"__main__\":\n",
        "    ab = aBinarios()\n",
        "    while(True):\n",
        "        print(\"---Menu---\\n\"+\"1. Inciar : \" + \"2. Preorden\\n\" + \"3. Postorden\" + \"4. Inorden\"  )\n",
        "        num = input(\"Ingresa la opcion : \")\n",
        "        if num == \"1\":\n",
        "            nombre = input(\"Ingrese el nombre: \")\n",
        "            cedula = input(\"Ingrese la cedula: \")\n",
        "            nod = Nodo(nombre, cedula)\n",
        "            ab.agregrar(nod)\n"
      ],
      "metadata": {
        "colab": {
          "base_uri": "https://localhost:8080/"
        },
        "id": "G6OtwzsDO7mQ",
        "outputId": "48b82d88-41bf-475b-d95c-e9c494f1d533"
      },
      "execution_count": null,
      "outputs": [
        {
          "name": "stdout",
          "output_type": "stream",
          "text": [
            "---Menu---\n",
            "1. Inciar : 2. Preorden\n",
            "3. Postorden4. Inorden\n",
            "Ingresa la opcion : 1\n"
          ]
        }
      ]
    }
  ]
}