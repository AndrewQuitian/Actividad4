{
  "nbformat": 4,
  "nbformat_minor": 0,
  "metadata": {
    "colab": {
      "name": "Actividad 4 - Operando con Pilas y Colas.ipynb",
      "provenance": [],
      "authorship_tag": "ABX9TyP73dl6zg/a0Emp8z+xsV7K",
      "include_colab_link": true
    },
    "kernelspec": {
      "name": "python3",
      "display_name": "Python 3"
    },
    "language_info": {
      "name": "python"
    }
  },
  "cells": [
    {
      "cell_type": "markdown",
      "metadata": {
        "id": "view-in-github",
        "colab_type": "text"
      },
      "source": [
        "<a href=\"https://colab.research.google.com/github/AndrewQuitian/Actividad4/blob/main/Actividad_4_Operando_con_Pilas_y_Colas.ipynb\" target=\"_parent\"><img src=\"https://colab.research.google.com/assets/colab-badge.svg\" alt=\"Open In Colab\"/></a>"
      ]
    },
    {
      "cell_type": "code",
      "execution_count": null,
      "metadata": {
        "colab": {
          "base_uri": "https://localhost:8080/"
        },
        "id": "bPMud23I59Nt",
        "outputId": "0dfe859b-cae9-47c4-fdc2-83ce648b39bb"
      },
      "outputs": [
        {
          "output_type": "stream",
          "name": "stdout",
          "text": [
            "Menu\n",
            "Seleccionar una opción\n",
            "[1] Ingresar Datos\n",
            "[2] Sacar Datos\n",
            "[3]¿La pila se encuentra desocupada\n",
            "[4]Mostrar pila\n",
            "[5] Salir\n"
          ]
        }
      ],
      "source": [
        "#PILAS\n",
        "\n",
        "# La pila representa una estructura de datos lineal en la que los elementos se pueden agregar o eliminar solo desde cualquier extremo. Así, los elementos de una pila se eliminan por\n",
        "# en el orden inverso al de su inserción. Debido a esta característica , se denomina estructura LIFO (último en entrar, primero en salir).\n",
        "\n",
        "#Ejemplo\n",
        "\n",
        "import os\n",
        "\n",
        "pila = []\n",
        "cima = -1\n",
        "\n",
        "\n",
        "#El uso de arreglos para implementaciones de pilas tiene la limitación de que primero se debe reservar espacio de memoria. Después de haber asignado la capacidad máxima de a la pila, no se pueden insertar más de\n",
        "#elementos por encima del máximo establecido. Si esto sucede, es decir, si la pila está llena e intenta insertar un nuevo elemento, se producirá un error llamado desbordamiento.\n",
        "\n",
        "while True: \n",
        "    print(\"Menu\")\n",
        "    print(\"Seleccionar una opción\")\n",
        "    print(\"[1] Ingresar Datos\")\n",
        "    print(\"[2] Sacar Datos\")\n",
        "    print(\"[3]¿La pila se encuentra desocupada\")\n",
        "    print(\"[4]Mostrar pila\")\n",
        "    print(\"[5] Salir\")\n",
        "    opcion=input() \n",
        "    if opcion=='1':\n",
        "        if cima <5:\n",
        "            pila.append(input(\"Escriba el dato a introducir en la pila\"))\n",
        "            cima+=1\n",
        "        else:\n",
        "            print(\"La pila ya esta llena\")\n",
        "    elif opcion=='2':\n",
        "        if cima >-1:\n",
        "            print(pila.pop())\n",
        "            cima -=1\n",
        "        else:\n",
        "            print(\"La pila esta vacia, por favor introduzca un dato\")\n",
        "    elif opcion=='3':\n",
        "        if cima==-1:\n",
        "            print(\"La pila está vacia\")\n",
        "        else:\n",
        "            print(\"La pila no está vacia\")\n",
        "    elif opcion=='4':\n",
        "        if cima!=-1:\n",
        "            print(pila)\n",
        "        else:\n",
        "            print(\"La pila esta vacia\")\n",
        "    elif opcion=='5':\n",
        "        break\n",
        "    else:\n",
        "        print(\"Opción incorrecta, intentelo de nuevo\")\n",
        "    os\n",
        "\n",
        "#Finalmente, podemos concluir que se necesitan pilas en este tipo de aplicación para lo siguiente; Permiten recordar la dirección del programa o subrutina, \n",
        "# desde donde se realiza la llamada a las demás subrutinas  \n",
        "# Sirven para guardar el estado de las variables al momento de llamar, para continuar usándolas cuando regrese la subrutina."
      ]
    },
    {
      "cell_type": "code",
      "source": [
        "#COLA\n",
        "\n",
        "#En una cola, hay dos extremos, uno se llama front end y el otro extremo se llama back end . \n",
        "#En una cola, los elementos se eliminan de la cola por la parte delantera y se agregan de la parte trasera\n",
        "\n",
        "#Ejemplo\n",
        "\n",
        "#Las operaciones básicas de una cola son “enque” (meter) y “deque” (sacar)\n",
        "\n",
        "#Necesitamos importar manualmente la colección deque para crear la cola:\n",
        "\n",
        "from collections import deque \n",
        "\n",
        "Circo = deque()\n",
        "\n",
        "#Podemos añadir elementos al crear la cola pasándolos en una lista:\n",
        "\n",
        "Circo.append('Elefante')\n",
        "Circo.append('Tigre')\n",
        "Circo.append('Gorila')\n",
        "Circo.append('Serpiente')\n",
        "\n",
        "# print(f'los animales del circo son{Circo}') \n",
        "\n",
        "#La parte interesante es a la hora de eliminar elementos, porque esta vez usaremos el método popleft(). \n",
        "# Similar a pop() pero extráigalos del lado izquierdo, que será el comienzo de la cola:\n",
        "\n",
        "while len(Circo) > 0:\n",
        "    siguiente_animal = Circo.popleft()  \n",
        "    print(siguiente_animal)\n",
        "    print(Circo)\n",
        "    print('--')\n",
        "\n",
        "#Podemos decir que la cola es una colección la cual nos permite añadir y sacar elementos, De esta forma tenemos un sistema para simular como funciona la cola en python"
      ],
      "metadata": {
        "colab": {
          "base_uri": "https://localhost:8080/"
        },
        "id": "PXL4a0tV7Glo",
        "outputId": "95987e64-1286-45e4-925c-12581ef58600"
      },
      "execution_count": 5,
      "outputs": [
        {
          "output_type": "stream",
          "name": "stdout",
          "text": [
            "Elefante\n",
            "deque(['Tigre', 'Gorila', 'Serpiente'])\n",
            "--\n",
            "Tigre\n",
            "deque(['Gorila', 'Serpiente'])\n",
            "--\n",
            "Gorila\n",
            "deque(['Serpiente'])\n",
            "--\n",
            "Serpiente\n",
            "deque([])\n",
            "--\n"
          ]
        }
      ]
    }
  ]
}