{
  "nbformat": 4,
  "nbformat_minor": 0,
  "metadata": {
    "colab": {
      "name": "Actividad 3 reconociendo estructuras de datos lineales.ipynb",
      "provenance": [],
      "collapsed_sections": [],
      "authorship_tag": "ABX9TyMJc7uiyCJ6FgBrUT3yOTYu",
      "include_colab_link": true
    },
    "kernelspec": {
      "name": "python3",
      "display_name": "Python 3"
    },
    "language_info": {
      "name": "python"
    }
  },
  "cells": [
    {
      "cell_type": "markdown",
      "metadata": {
        "id": "view-in-github",
        "colab_type": "text"
      },
      "source": [
        "<a href=\"https://colab.research.google.com/github/AndrewQuitian/Actividad4/blob/main/Actividad_3_reconociendo_estructuras_de_datos_lineales.ipynb\" target=\"_parent\"><img src=\"https://colab.research.google.com/assets/colab-badge.svg\" alt=\"Open In Colab\"/></a>"
      ]
    },
    {
      "cell_type": "code",
      "execution_count": 1,
      "metadata": {
        "colab": {
          "base_uri": "https://localhost:8080/"
        },
        "id": "fq0yWkHpTFGT",
        "outputId": "90933a86-38f1-4574-f473-da14e11790d6"
      },
      "outputs": [
        {
          "output_type": "stream",
          "name": "stdout",
          "text": [
            "Elefante\n",
            "deque(['Tigre', 'Gorila', 'Serpiente'])\n",
            "--\n",
            "Tigre\n",
            "deque(['Gorila', 'Serpiente'])\n",
            "--\n",
            "Gorila\n",
            "deque(['Serpiente'])\n",
            "--\n",
            "Serpiente\n",
            "deque([])\n",
            "--\n"
          ]
        }
      ],
      "source": [
        "#En una cola, hay dos extremos, uno se llama front end y el otro extremo se llama back end . \n",
        "#En una cola, los elementos se eliminan de la cola por la parte delantera y se agregan de la parte trasera\n",
        "\n",
        "#Ejemplo\n",
        "\n",
        "#Las operaciones básicas de una cola son “enque” (meter) y “deque” (sacar)\n",
        "\n",
        "#Necesitamos importar manualmente la colección deque para crear la cola:\n",
        "\n",
        "from collections import deque \n",
        "\n",
        "Circo = deque()\n",
        "\n",
        "#Podemos añadir elementos al crear la cola pasándolos en una lista:\n",
        "\n",
        "Circo.append('Elefante')\n",
        "Circo.append('Tigre')\n",
        "Circo.append('Gorila')\n",
        "Circo.append('Serpiente')\n",
        "\n",
        "# print(f'los animales del circo son{Circo}') \n",
        "\n",
        "#La parte interesante es a la hora de eliminar elementos, porque esta vez usaremos el método popleft(). \n",
        "# Similar a pop() pero extráigalos del lado izquierdo, que será el comienzo de la cola:\n",
        "\n",
        "while len(Circo) > 0:\n",
        "    siguiente_animal = Circo.popleft()  \n",
        "    print(siguiente_animal)\n",
        "    print(Circo)\n",
        "    print('--')\n",
        "\n",
        "#Podemos decir que la cola es una colección la cual nos permite añadir y sacar elementos, De esta forma tenemos un sistema para simular como funciona la cola en python\n",
        "\n"
      ]
    },
    {
      "cell_type": "code",
      "source": [
        "# La pila representa una estructura de datos lineal en la que los elementos se pueden agregar o eliminar solo desde cualquier extremo. Así, los elementos de una pila se eliminan por\n",
        "# en el orden inverso al de su inserción. Debido a esta característica , se denomina estructura LIFO (último en entrar, primero en salir).\n",
        "\n",
        "#Ejemplo\n",
        "\n",
        "from collections import deque\n",
        "\n",
        "inventario = deque()\n",
        "\n",
        "#El uso de arreglos para implementaciones de pilas tiene la limitación de que primero se debe reservar espacio de memoria. Después de haber asignado la capacidad máxima de a la pila, no se pueden insertar más de\n",
        "#elementos por encima del máximo establecido. Si esto sucede, es decir, si la pila está llena e intenta insertar un nuevo elemento, se producirá un error llamado desbordamiento.\n",
        "\n",
        "inventario.append('elemento 1')\n",
        "inventario.append('elemento 2')\n",
        "inventario.append('elemento 3')\n",
        "inventario.append('elemento 4')\n",
        "inventario.append('elemento 5')\n",
        "\n",
        "while len(inventario) > 0:\n",
        "    ultima_accion = inventario.pop()\n",
        "    print(ultima_accion)\n",
        "    print(inventario)\n",
        "    print('--')\n",
        "    \n",
        "#Finalmente, podemos concluir que se necesitan pilas en este tipo de aplicación para lo siguiente; Permiten recordar la dirección del programa o subrutina, \n",
        "# desde donde se realiza la llamada a las demás subrutinas  \n",
        "# Sirven para guardar el estado de las variables al momento de llamar, para continuar usándolas cuando regrese la subrutina."
      ],
      "metadata": {
        "colab": {
          "base_uri": "https://localhost:8080/"
        },
        "id": "LfjZ8nyeTLqO",
        "outputId": "403689b3-fc44-400d-93f5-389f91776427"
      },
      "execution_count": 2,
      "outputs": [
        {
          "output_type": "stream",
          "name": "stdout",
          "text": [
            "elemento 5\n",
            "deque(['elemento 1', 'elemento 2', 'elemento 3', 'elemento 4'])\n",
            "--\n",
            "elemento 4\n",
            "deque(['elemento 1', 'elemento 2', 'elemento 3'])\n",
            "--\n",
            "elemento 3\n",
            "deque(['elemento 1', 'elemento 2'])\n",
            "--\n",
            "elemento 2\n",
            "deque(['elemento 1'])\n",
            "--\n",
            "elemento 1\n",
            "deque([])\n",
            "--\n"
          ]
        }
      ]
    }
  ]
}